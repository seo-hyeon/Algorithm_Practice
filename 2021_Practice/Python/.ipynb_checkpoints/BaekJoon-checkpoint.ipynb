{
 "cells": [
  {
   "cell_type": "markdown",
   "metadata": {},
   "source": [
    "# 2557번"
   ]
  },
  {
   "cell_type": "code",
   "execution_count": 1,
   "metadata": {},
   "outputs": [
    {
     "name": "stdout",
     "output_type": "stream",
     "text": [
      "Hello World!\n"
     ]
    }
   ],
   "source": [
    "print(\"Hello World!\")"
   ]
  },
  {
   "cell_type": "markdown",
   "metadata": {},
   "source": [
    "# 10718번"
   ]
  },
  {
   "cell_type": "code",
   "execution_count": 4,
   "metadata": {},
   "outputs": [
    {
     "name": "stdout",
     "output_type": "stream",
     "text": [
      "강한친구 대한육군\n",
      "강한친구 대한육군\n"
     ]
    }
   ],
   "source": [
    "print(\"강한친구 대한육군\\n강한친구 대한육군\")"
   ]
  },
  {
   "cell_type": "markdown",
   "metadata": {},
   "source": [
    "# 1000번"
   ]
  },
  {
   "cell_type": "code",
   "execution_count": 10,
   "metadata": {},
   "outputs": [
    {
     "name": "stdout",
     "output_type": "stream",
     "text": [
      "1 2\n",
      "3\n"
     ]
    }
   ],
   "source": [
    "num = input()\n",
    "num = num.split(\" \")\n",
    "print(int(num[0]) + int(num[1]))"
   ]
  },
  {
   "cell_type": "markdown",
   "metadata": {},
   "source": [
    "# 2588번"
   ]
  },
  {
   "cell_type": "code",
   "execution_count": 13,
   "metadata": {},
   "outputs": [
    {
     "name": "stdout",
     "output_type": "stream",
     "text": [
      "427\n",
      "385\n",
      "2135\n",
      "3416\n",
      "1281\n",
      "164395\n"
     ]
    }
   ],
   "source": [
    "num1 = input()\n",
    "num2 = input()\n",
    "\n",
    "for i in range(len(num2) - 1 , -1, -1):\n",
    "    print(int(num1) * int(num2[i]));\n",
    "\n",
    "print(int(num1) * int(num2));"
   ]
  },
  {
   "cell_type": "markdown",
   "metadata": {},
   "source": [
    "# 1330번"
   ]
  },
  {
   "cell_type": "code",
   "execution_count": 16,
   "metadata": {},
   "outputs": [
    {
     "name": "stdout",
     "output_type": "stream",
     "text": [
      "10 2\n",
      ">\n"
     ]
    }
   ],
   "source": [
    "num = input()\n",
    "num = num.split(\" \")\n",
    "\n",
    "if (int(num[0]) > int(num[1])):\n",
    "    print(\">\")\n",
    "elif (int(num[0]) < int(num[1])):\n",
    "    print(\"<\")\n",
    "else:\n",
    "    print(\"==\")"
   ]
  },
  {
   "cell_type": "markdown",
   "metadata": {},
   "source": [
    "# 9498번"
   ]
  },
  {
   "cell_type": "code",
   "execution_count": 17,
   "metadata": {},
   "outputs": [
    {
     "name": "stdout",
     "output_type": "stream",
     "text": [
      "100\n",
      "A\n"
     ]
    }
   ],
   "source": [
    "score = int(input())\n",
    "\n",
    "if score >= 90:\n",
    "    print(\"A\");\n",
    "elif score >= 80:\n",
    "    print(\"B\");\n",
    "elif score >= 70:\n",
    "    print(\"C\");\n",
    "elif score >= 60:\n",
    "    print(\"D\");\n",
    "else:\n",
    "    print(\"F\");"
   ]
  },
  {
   "cell_type": "markdown",
   "metadata": {},
   "source": [
    "# 2753번"
   ]
  },
  {
   "cell_type": "code",
   "execution_count": 1,
   "metadata": {},
   "outputs": [
    {
     "name": "stdout",
     "output_type": "stream",
     "text": [
      "2000\n",
      "1\n"
     ]
    }
   ],
   "source": [
    "year = int(input())\n",
    "\n",
    "if (year % 4 == 0 and year % 100 != 0) or (year % 400 == 0):\n",
    "    print(\"1\")\n",
    "else:\n",
    "    print(\"0\")"
   ]
  },
  {
   "cell_type": "markdown",
   "metadata": {},
   "source": [
    "# 14681번"
   ]
  },
  {
   "cell_type": "code",
   "execution_count": 2,
   "metadata": {},
   "outputs": [
    {
     "name": "stdout",
     "output_type": "stream",
     "text": [
      "1\n",
      "2\n",
      "1\n"
     ]
    }
   ],
   "source": [
    "x = int(input())\n",
    "y = int(input())\n",
    "\n",
    "if y > 0:\n",
    "    if x > 0:\n",
    "        print(\"1\")\n",
    "    else:\n",
    "        print(\"2\")\n",
    "else:\n",
    "    if x > 0:\n",
    "        print(\"4\")\n",
    "    else:\n",
    "        print(\"3\")"
   ]
  },
  {
   "cell_type": "markdown",
   "metadata": {},
   "source": [
    "# 2884번"
   ]
  },
  {
   "cell_type": "code",
   "execution_count": 5,
   "metadata": {},
   "outputs": [
    {
     "name": "stdout",
     "output_type": "stream",
     "text": [
      "0 30\n",
      "23 45\n"
     ]
    }
   ],
   "source": [
    "time = input()\n",
    "time = time.split(\" \")\n",
    "\n",
    "hour = int(time[0])\n",
    "minute = int(time[1])\n",
    "\n",
    "if (minute < 45):\n",
    "    if (hour < 1):\n",
    "        hour = 23\n",
    "    else:\n",
    "        hour -= 1\n",
    "    \n",
    "    minute += 60\n",
    "\n",
    "minute -= 45\n",
    "\n",
    "print(hour, minute)"
   ]
  },
  {
   "cell_type": "markdown",
   "metadata": {},
   "source": [
    "# 2739번"
   ]
  },
  {
   "cell_type": "code",
   "execution_count": 1,
   "metadata": {},
   "outputs": [
    {
     "name": "stdout",
     "output_type": "stream",
     "text": [
      "2\n",
      "2 * 1 = 2\n",
      "2 * 2 = 4\n",
      "2 * 3 = 6\n",
      "2 * 4 = 8\n",
      "2 * 5 = 10\n",
      "2 * 6 = 12\n",
      "2 * 7 = 14\n",
      "2 * 8 = 16\n",
      "2 * 9 = 18\n"
     ]
    }
   ],
   "source": [
    "num = int(input())\n",
    "\n",
    "for i in range(9):\n",
    "    print(num, \"*\", i + 1, \"=\", num * (i + 1))"
   ]
  },
  {
   "cell_type": "markdown",
   "metadata": {},
   "source": [
    "# 10950번"
   ]
  },
  {
   "cell_type": "code",
   "execution_count": 2,
   "metadata": {},
   "outputs": [
    {
     "name": "stdout",
     "output_type": "stream",
     "text": [
      "5\n",
      "1 1\n",
      "2\n",
      "2 3\n",
      "5\n",
      "9 8\n",
      "17\n",
      "3 4\n",
      "7\n",
      "0 2\n",
      "2\n"
     ]
    }
   ],
   "source": [
    "num = int(input())\n",
    "\n",
    "for i in range(num):\n",
    "    ab = input()\n",
    "    ab = ab.split(\" \")\n",
    "    print(int(ab[0]) + int(ab[1]))"
   ]
  },
  {
   "cell_type": "markdown",
   "metadata": {},
   "source": [
    "# 8393번\n",
    "    - 반복"
   ]
  },
  {
   "cell_type": "code",
   "execution_count": 3,
   "metadata": {},
   "outputs": [
    {
     "name": "stdout",
     "output_type": "stream",
     "text": [
      "3\n",
      "6\n"
     ]
    }
   ],
   "source": [
    "num = int(input())\n",
    "result = 0\n",
    "\n",
    "for i in range(num):\n",
    "    result += i+1\n",
    "\n",
    "print(result)"
   ]
  },
  {
   "cell_type": "markdown",
   "metadata": {},
   "source": [
    "    - 재귀 -> 런타임 에러 발생"
   ]
  },
  {
   "cell_type": "code",
   "execution_count": 7,
   "metadata": {},
   "outputs": [
    {
     "name": "stdout",
     "output_type": "stream",
     "text": [
      "100\n",
      "5050\n"
     ]
    }
   ],
   "source": [
    "def cal(n):\n",
    "    if n <= 1:\n",
    "        return 1\n",
    "    else:\n",
    "        return n + cal(n-1)\n",
    "\n",
    "num = int(input())\n",
    "print(cal(num))"
   ]
  },
  {
   "cell_type": "markdown",
   "metadata": {},
   "source": [
    "# 10871번"
   ]
  },
  {
   "cell_type": "code",
   "execution_count": 12,
   "metadata": {},
   "outputs": [
    {
     "name": "stdout",
     "output_type": "stream",
     "text": [
      "10 5\n",
      "1 10 4 9 2 3 8 5 7 6\n",
      "1 4 2 3 "
     ]
    }
   ],
   "source": [
    "nx = input()\n",
    "nx = nx.split(\" \")\n",
    "\n",
    "l = input()\n",
    "l = l.split(\" \")\n",
    "\n",
    "for i in range(len(l)):\n",
    "    if (int(l[i]) < int(nx[1])):\n",
    "        print(l[i], end=\" \")"
   ]
  },
  {
   "cell_type": "code",
   "execution_count": 13,
   "metadata": {},
   "outputs": [
    {
     "name": "stdout",
     "output_type": "stream",
     "text": [
      "10 5\n",
      "1 10 4 9 2 3 8 5 7 6\n",
      "1 4 2 3 "
     ]
    }
   ],
   "source": [
    "n, x = map(int, input().split(\" \"))\n",
    "\n",
    "l = input()\n",
    "l = l.split(\" \")\n",
    "\n",
    "for i in range(len(l)):\n",
    "    if (int(l[i]) < int(x)):\n",
    "        print(l[i], end=\" \")"
   ]
  },
  {
   "cell_type": "markdown",
   "metadata": {},
   "source": [
    "# 10951번"
   ]
  },
  {
   "cell_type": "code",
   "execution_count": 4,
   "metadata": {},
   "outputs": [
    {
     "name": "stdout",
     "output_type": "stream",
     "text": [
      "1 1\n",
      "2\n",
      "2 3\n",
      "5\n",
      "\n"
     ]
    }
   ],
   "source": [
    "#런타임 에러\n",
    "ab = input()\n",
    "\n",
    "while ab != \"\":\n",
    "    ab = ab.split(\" \")\n",
    "    print(int(ab[0]) + int(ab[1]))\n",
    "    ab = input()"
   ]
  },
  {
   "cell_type": "code",
   "execution_count": 8,
   "metadata": {},
   "outputs": [
    {
     "name": "stdout",
     "output_type": "stream",
     "text": [
      "1 1\n",
      "2\n",
      "2 3\n",
      "5\n",
      "\n"
     ]
    }
   ],
   "source": [
    "while(1==1):\n",
    "    try:\n",
    "        ab = input()\n",
    "        ab = ab.split(\" \")\n",
    "        print(int(ab[0]) + int(ab[1]))\n",
    "    except:\n",
    "        break;"
   ]
  },
  {
   "cell_type": "markdown",
   "metadata": {},
   "source": [
    "# 1110번"
   ]
  },
  {
   "cell_type": "code",
   "execution_count": 12,
   "metadata": {},
   "outputs": [
    {
     "name": "stdout",
     "output_type": "stream",
     "text": [
      "26\n",
      "4\n"
     ]
    }
   ],
   "source": [
    "n = int(input())\n",
    "result = n\n",
    "i = 0\n",
    "\n",
    "while (1==1):\n",
    "    result = (result % 10) * 10 + (result // 10 + result % 10) % 10\n",
    "    i += 1\n",
    "    \n",
    "    if (n == result):\n",
    "        break;\n",
    "        \n",
    "print(i)"
   ]
  },
  {
   "cell_type": "markdown",
   "metadata": {},
   "source": [
    "# 10818번"
   ]
  },
  {
   "cell_type": "code",
   "execution_count": 2,
   "metadata": {},
   "outputs": [
    {
     "name": "stdout",
     "output_type": "stream",
     "text": [
      "5\n",
      "20 10 35 30 7\n",
      "7 35\n"
     ]
    }
   ],
   "source": [
    "n = int(input())\n",
    "l = input()\n",
    "l = l.split(\" \")\n",
    "\n",
    "list_max = -10000000\n",
    "list_min = 10000000\n",
    "\n",
    "for i in range(n):\n",
    "    if (int(l[i]) > list_max):\n",
    "        list_max = int(l[i])\n",
    "    \n",
    "    if (int(l[i]) < list_min):\n",
    "        list_min = int(l[i])\n",
    "    \n",
    "print(list_min, list_max)"
   ]
  },
  {
   "cell_type": "code",
   "execution_count": 3,
   "metadata": {},
   "outputs": [
    {
     "name": "stdout",
     "output_type": "stream",
     "text": [
      "5\n",
      "20 10 35 30 7\n",
      "7 35\n"
     ]
    }
   ],
   "source": [
    "n = input()\n",
    "l = list(map(int, input().split()))\n",
    "\n",
    "print(min(l), max(l))"
   ]
  },
  {
   "cell_type": "markdown",
   "metadata": {},
   "source": [
    "# 2577번"
   ]
  },
  {
   "cell_type": "code",
   "execution_count": 7,
   "metadata": {},
   "outputs": [
    {
     "name": "stdout",
     "output_type": "stream",
     "text": [
      "150\n",
      "266\n",
      "427\n",
      "3\n",
      "1\n",
      "0\n",
      "2\n",
      "0\n",
      "0\n",
      "0\n",
      "2\n",
      "0\n",
      "0\n"
     ]
    }
   ],
   "source": [
    "a = int(input())\n",
    "b = int(input())\n",
    "c = int(input())\n",
    "answer = [0, 0, 0, 0, 0, 0, 0, 0, 0, 0]\n",
    "\n",
    "result = str(a * b * c)\n",
    "\n",
    "for i in result:\n",
    "    answer[int(i)] += 1\n",
    "    \n",
    "for i in range(len(answer)):\n",
    "    print(answer[i])"
   ]
  },
  {
   "cell_type": "code",
   "execution_count": 8,
   "metadata": {},
   "outputs": [
    {
     "name": "stdout",
     "output_type": "stream",
     "text": [
      "150\n",
      "266\n",
      "427\n",
      "3\n",
      "1\n",
      "0\n",
      "2\n",
      "0\n",
      "0\n",
      "0\n",
      "2\n",
      "0\n",
      "0\n"
     ]
    }
   ],
   "source": [
    "a = int(input())\n",
    "b = int(input())\n",
    "c = int(input())\n",
    "\n",
    "result = str(a * b * c)\n",
    "    \n",
    "for i in range(10):\n",
    "    print(result.count(str(i)))"
   ]
  },
  {
   "cell_type": "markdown",
   "metadata": {},
   "source": [
    "# 8958번"
   ]
  },
  {
   "cell_type": "code",
   "execution_count": null,
   "metadata": {},
   "outputs": [
    {
     "name": "stdout",
     "output_type": "stream",
     "text": [
      "5\n",
      "OOXXOXXOOO\n",
      "10\n",
      "OOOOOOOOOO\n",
      "55\n"
     ]
    }
   ],
   "source": [
    "n = int(input())\n",
    "\n",
    "for i in range(n):\n",
    "    result = input()\n",
    "    \n",
    "    score = 0\n",
    "    k = 1\n",
    "    \n",
    "    for j in result:\n",
    "        if j == 'O':\n",
    "            score += k\n",
    "            k += 1\n",
    "        else:\n",
    "            k = 1\n",
    "    \n",
    "    print(score)"
   ]
  },
  {
   "cell_type": "markdown",
   "metadata": {},
   "source": [
    "# 15596번"
   ]
  },
  {
   "cell_type": "code",
   "execution_count": 1,
   "metadata": {},
   "outputs": [
    {
     "name": "stdout",
     "output_type": "stream",
     "text": [
      "6\n"
     ]
    }
   ],
   "source": [
    "def solve (a: list):\n",
    "    result = 0;\n",
    "    \n",
    "    for i in range(len(a)):\n",
    "        result += a[i];\n",
    "        \n",
    "    return result\n",
    "\n",
    "print(solve([1, 2, 3]))"
   ]
  },
  {
   "cell_type": "code",
   "execution_count": 2,
   "metadata": {},
   "outputs": [],
   "source": [
    "def solve(a):\n",
    "    ans = 0;\n",
    "    \n",
    "    for i in a:\n",
    "        ans += i\n",
    "        \n",
    "    return ans"
   ]
  },
  {
   "cell_type": "markdown",
   "metadata": {},
   "source": [
    "# 4673번"
   ]
  },
  {
   "cell_type": "code",
   "execution_count": 16,
   "metadata": {},
   "outputs": [
    {
     "name": "stdout",
     "output_type": "stream",
     "text": [
      "1\n",
      "3\n",
      "5\n",
      "7\n",
      "9\n",
      "20\n",
      "31\n",
      "42\n",
      "53\n",
      "64\n",
      "75\n",
      "86\n",
      "97\n"
     ]
    }
   ],
   "source": [
    "# 시간초과\n",
    "\n",
    "def self (n):\n",
    "    result = n\n",
    "    \n",
    "    while (n > 0):\n",
    "        result += (n % 10)\n",
    "        n //= 10\n",
    "        \n",
    "    return result\n",
    "\n",
    "def rever_self (n):\n",
    "    for i in range(n - 1):\n",
    "        if (self(i + 1) == n):\n",
    "            return False;\n",
    "        \n",
    "    return True;\n",
    "\n",
    "\n",
    "for i in range(100):\n",
    "    if (rever_self(i + 1) == True):\n",
    "        print(i + 1)"
   ]
  },
  {
   "cell_type": "code",
   "execution_count": 24,
   "metadata": {},
   "outputs": [
    {
     "name": "stdout",
     "output_type": "stream",
     "text": [
      "1\n",
      "3\n",
      "5\n",
      "7\n",
      "9\n",
      "20\n",
      "31\n",
      "42\n",
      "53\n",
      "64\n",
      "75\n",
      "86\n",
      "97\n"
     ]
    }
   ],
   "source": [
    "def self (n):\n",
    "    result = n\n",
    "    \n",
    "    while (n > 0):\n",
    "        result += (n % 10)\n",
    "        n //= 10\n",
    "        \n",
    "    return result\n",
    "\n",
    "answer = [0 for _ in range(100)]\n",
    "\n",
    "for i in range(100):\n",
    "    result = self(i + 1)\n",
    "    if (result <= 100):\n",
    "        answer[result - 1] = 1\n",
    "\n",
    "for i in range(100):\n",
    "    if (answer[i] == 0):\n",
    "        print(i + 1)"
   ]
  },
  {
   "cell_type": "code",
   "execution_count": 25,
   "metadata": {},
   "outputs": [
    {
     "name": "stdout",
     "output_type": "stream",
     "text": [
      "1\n",
      "3\n",
      "5\n",
      "7\n",
      "9\n",
      "20\n",
      "31\n",
      "42\n",
      "53\n",
      "64\n",
      "75\n",
      "86\n",
      "97\n"
     ]
    }
   ],
   "source": [
    "def d(n):\n",
    "    ans = n\n",
    "    temp=str(n)\n",
    "    for i in range (len(temp)):\n",
    "        ans +=int(temp[i])\n",
    "    return ans\n",
    "\n",
    "A = []\n",
    "for i in range (1,100+1):\n",
    "    A.append(d(i))\n",
    "\n",
    "for j in range (1,100+1):\n",
    "    if j not in A:\n",
    "        print(j)"
   ]
  }
 ],
 "metadata": {
  "kernelspec": {
   "display_name": "Python 3",
   "language": "python",
   "name": "python3"
  },
  "language_info": {
   "codemirror_mode": {
    "name": "ipython",
    "version": 3
   },
   "file_extension": ".py",
   "mimetype": "text/x-python",
   "name": "python",
   "nbconvert_exporter": "python",
   "pygments_lexer": "ipython3",
   "version": "3.7.4"
  }
 },
 "nbformat": 4,
 "nbformat_minor": 4
}

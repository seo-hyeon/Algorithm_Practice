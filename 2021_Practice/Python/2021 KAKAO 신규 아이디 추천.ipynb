{
 "cells": [
  {
   "cell_type": "markdown",
   "metadata": {},
   "source": [
    "* isalpha(), isdigit() 쓰기"
   ]
  },
  {
   "cell_type": "code",
   "execution_count": 1,
   "metadata": {},
   "outputs": [],
   "source": [
    "import string;\n",
    "\n",
    "def solution(new_id):\n",
    "\n",
    "    answer = new_id.lower()\n",
    "\n",
    "\n",
    "    for i in answer:\n",
    "        if (i not in string.ascii_lowercase and i not in (\"-\", \"_\", \".\")):\n",
    "            if (i not in ['0', '1', '2', '3', '4', '5', '6', '7', '8', '9']):\n",
    "                answer = answer.replace(i, \"\")\n",
    "\n",
    "    while(1):\n",
    "        answer = answer.replace(\"..\", \".\")\n",
    "\n",
    "        if (\"..\" not in answer):\n",
    "            break\n",
    "\n",
    "    if (answer[0] == \".\"):\n",
    "        answer = answer[1:]\n",
    "    if (len(answer) != 0 and answer[len(answer)-1] == \".\"):\n",
    "        answer = answer[:-1]\n",
    "\n",
    "    if (len(answer) == 0):\n",
    "        answer = answer + 'a'\n",
    "\n",
    "    if (len(answer) >= 16):\n",
    "        answer = answer[:15]\n",
    "        if (len(answer) != 0 and answer[len(answer)-1] == \".\"):\n",
    "            answer = answer[:-1]\n",
    "\n",
    "    while (1):\n",
    "        if (len(answer) <= 2):\n",
    "            answer += answer[len(answer) -1]\n",
    "        else:\n",
    "            break\n",
    "\n",
    "    return answer"
   ]
  },
  {
   "cell_type": "code",
   "execution_count": 2,
   "metadata": {},
   "outputs": [
    {
     "data": {
      "text/plain": [
       "'bat.y.abcdefghi'"
      ]
     },
     "execution_count": 2,
     "metadata": {},
     "output_type": "execute_result"
    }
   ],
   "source": [
    "solution(\"...!@BaT#*..y.abcdefghijklm\")"
   ]
  },
  {
   "cell_type": "code",
   "execution_count": null,
   "metadata": {},
   "outputs": [],
   "source": []
  }
 ],
 "metadata": {
  "kernelspec": {
   "display_name": "Python 3",
   "language": "python",
   "name": "python3"
  },
  "language_info": {
   "codemirror_mode": {
    "name": "ipython",
    "version": 3
   },
   "file_extension": ".py",
   "mimetype": "text/x-python",
   "name": "python",
   "nbconvert_exporter": "python",
   "pygments_lexer": "ipython3",
   "version": "3.8.5"
  }
 },
 "nbformat": 4,
 "nbformat_minor": 4
}
